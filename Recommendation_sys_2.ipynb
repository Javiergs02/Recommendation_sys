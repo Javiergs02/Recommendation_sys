{
 "cells": [
  {
   "cell_type": "code",
   "execution_count": 1,
   "metadata": {},
   "outputs": [],
   "source": [
    "import pandas as pd\n",
    "import numpy as np\n",
    "\n",
    "movies = pd.read_csv('ml-1m/movies.dat', sep='::', header=None, engine='python', names=['movieId', 'title', 'genres'], encoding='ISO-8859-1')\n",
    "ratings = pd.read_csv('ml-1m/ratings.dat', sep='::', header=None, engine='python', names=['userId', 'movieId', 'rating', 'timestamp'], encoding='ISO-8859-1')\n",
    "users = pd.read_csv('ml-1m/users.dat', sep='::', header=None, engine='python', names=['userId', 'gender', 'age', 'occupation', 'zip'], encoding='ISO-8859-1')\n"
   ]
  },
  {
   "cell_type": "code",
   "execution_count": 2,
   "metadata": {},
   "outputs": [],
   "source": [
    "\n",
    "user_movie_matrix = ratings.pivot(index='userId', columns='movieId', values='rating').fillna(0)\n"
   ]
  },
  {
   "cell_type": "code",
   "execution_count": 3,
   "metadata": {},
   "outputs": [],
   "source": [
    "\n",
    "user_features = users.set_index('userId').drop(columns=['zip'])\n",
    "user_features = pd.get_dummies(user_features, columns=['gender', 'occupation'])\n"
   ]
  },
  {
   "cell_type": "code",
   "execution_count": 4,
   "metadata": {},
   "outputs": [],
   "source": [
    "from sklearn.model_selection import train_test_split\n",
    "\n",
    "X_train, X_test = train_test_split(user_movie_matrix, test_size=0.2, random_state=42)\n",
    "user_features_train, user_features_test = train_test_split(user_features, test_size=0.2, random_state=42)\n",
    "\n",
    "X_train = X_train.astype('float32')\n",
    "X_test = X_test.astype('float32')\n",
    "user_features_train = user_features_train.astype('float32')\n",
    "user_features_test = user_features_test.astype('float32')\n",
    "user_movie_matrix = user_movie_matrix.astype('float32')\n",
    "user_features = user_features.astype('float32')\n",
    "\n"
   ]
  },
  {
   "cell_type": "code",
   "execution_count": 5,
   "metadata": {},
   "outputs": [
    {
     "name": "stdout",
     "output_type": "stream",
     "text": [
      "Epoch 1/50\n",
      "19/19 [==============================] - 2s 65ms/step - loss: 0.5991 - val_loss: 0.5158\n",
      "Epoch 2/50\n",
      "19/19 [==============================] - 1s 35ms/step - loss: 0.5335 - val_loss: 0.5045\n",
      "Epoch 3/50\n",
      "19/19 [==============================] - 1s 41ms/step - loss: 0.5243 - val_loss: 0.4951\n",
      "Epoch 4/50\n",
      "19/19 [==============================] - 1s 48ms/step - loss: 0.5156 - val_loss: 0.4879\n",
      "Epoch 5/50\n",
      "19/19 [==============================] - 1s 43ms/step - loss: 0.5073 - val_loss: 0.4795\n",
      "Epoch 6/50\n",
      "19/19 [==============================] - 1s 39ms/step - loss: 0.4984 - val_loss: 0.4711\n",
      "Epoch 7/50\n",
      "19/19 [==============================] - 1s 42ms/step - loss: 0.4886 - val_loss: 0.4633\n",
      "Epoch 8/50\n",
      "19/19 [==============================] - 1s 37ms/step - loss: 0.4799 - val_loss: 0.4563\n",
      "Epoch 9/50\n",
      "19/19 [==============================] - 1s 33ms/step - loss: 0.4726 - val_loss: 0.4514\n",
      "Epoch 10/50\n",
      "19/19 [==============================] - 1s 33ms/step - loss: 0.4670 - val_loss: 0.4480\n",
      "Epoch 11/50\n",
      "19/19 [==============================] - 1s 33ms/step - loss: 0.4625 - val_loss: 0.4457\n",
      "Epoch 12/50\n",
      "19/19 [==============================] - 1s 33ms/step - loss: 0.4592 - val_loss: 0.4439\n",
      "Epoch 13/50\n",
      "19/19 [==============================] - 1s 32ms/step - loss: 0.4564 - val_loss: 0.4426\n",
      "Epoch 14/50\n",
      "19/19 [==============================] - 1s 35ms/step - loss: 0.4539 - val_loss: 0.4413\n",
      "Epoch 15/50\n",
      "19/19 [==============================] - 1s 36ms/step - loss: 0.4517 - val_loss: 0.4407\n",
      "Epoch 16/50\n",
      "19/19 [==============================] - 1s 40ms/step - loss: 0.4499 - val_loss: 0.4401\n",
      "Epoch 17/50\n",
      "19/19 [==============================] - 1s 44ms/step - loss: 0.4483 - val_loss: 0.4395\n",
      "Epoch 18/50\n",
      "19/19 [==============================] - 1s 39ms/step - loss: 0.4467 - val_loss: 0.4395\n",
      "Epoch 19/50\n",
      "19/19 [==============================] - 1s 36ms/step - loss: 0.4455 - val_loss: 0.4390\n",
      "Epoch 20/50\n",
      "19/19 [==============================] - 1s 39ms/step - loss: 0.4442 - val_loss: 0.4390\n",
      "Epoch 21/50\n",
      "19/19 [==============================] - 1s 54ms/step - loss: 0.4429 - val_loss: 0.4389\n",
      "Epoch 22/50\n",
      "19/19 [==============================] - 1s 40ms/step - loss: 0.4417 - val_loss: 0.4387\n",
      "Epoch 23/50\n",
      "19/19 [==============================] - 1s 44ms/step - loss: 0.4404 - val_loss: 0.4387\n",
      "Epoch 24/50\n",
      "19/19 [==============================] - 1s 41ms/step - loss: 0.4392 - val_loss: 0.4389\n",
      "Epoch 25/50\n",
      "19/19 [==============================] - 1s 46ms/step - loss: 0.4382 - val_loss: 0.4387\n",
      "Epoch 26/50\n",
      "19/19 [==============================] - 1s 47ms/step - loss: 0.4375 - val_loss: 0.4389\n",
      "Epoch 27/50\n",
      "19/19 [==============================] - 1s 46ms/step - loss: 0.4367 - val_loss: 0.4390\n",
      "Epoch 28/50\n",
      "19/19 [==============================] - 1s 41ms/step - loss: 0.4358 - val_loss: 0.4390\n",
      "Epoch 29/50\n",
      "19/19 [==============================] - 1s 37ms/step - loss: 0.4347 - val_loss: 0.4391\n",
      "Epoch 30/50\n",
      "19/19 [==============================] - 1s 47ms/step - loss: 0.4340 - val_loss: 0.4394\n",
      "Epoch 31/50\n",
      "19/19 [==============================] - 1s 42ms/step - loss: 0.4333 - val_loss: 0.4396\n",
      "Epoch 32/50\n",
      "19/19 [==============================] - 1s 48ms/step - loss: 0.4328 - val_loss: 0.4403\n",
      "Epoch 33/50\n",
      "19/19 [==============================] - 1s 39ms/step - loss: 0.4318 - val_loss: 0.4396\n",
      "Epoch 34/50\n",
      "19/19 [==============================] - 1s 44ms/step - loss: 0.4308 - val_loss: 0.4398\n",
      "Epoch 35/50\n",
      "19/19 [==============================] - 1s 39ms/step - loss: 0.4300 - val_loss: 0.4403\n",
      "Epoch 36/50\n",
      "19/19 [==============================] - 1s 47ms/step - loss: 0.4293 - val_loss: 0.4405\n",
      "Epoch 37/50\n",
      "19/19 [==============================] - 1s 40ms/step - loss: 0.4288 - val_loss: 0.4403\n",
      "Epoch 38/50\n",
      "19/19 [==============================] - 1s 37ms/step - loss: 0.4280 - val_loss: 0.4407\n",
      "Epoch 39/50\n",
      "19/19 [==============================] - 1s 40ms/step - loss: 0.4274 - val_loss: 0.4408\n",
      "Epoch 40/50\n",
      "19/19 [==============================] - 1s 43ms/step - loss: 0.4269 - val_loss: 0.4409\n",
      "Epoch 41/50\n",
      "19/19 [==============================] - 1s 40ms/step - loss: 0.4265 - val_loss: 0.4414\n",
      "Epoch 42/50\n",
      "19/19 [==============================] - 1s 39ms/step - loss: 0.4259 - val_loss: 0.4413\n",
      "Epoch 43/50\n",
      "19/19 [==============================] - 1s 41ms/step - loss: 0.4254 - val_loss: 0.4415\n",
      "Epoch 44/50\n",
      "19/19 [==============================] - 1s 36ms/step - loss: 0.4247 - val_loss: 0.4415\n",
      "Epoch 45/50\n",
      "19/19 [==============================] - 1s 43ms/step - loss: 0.4243 - val_loss: 0.4419\n",
      "Epoch 46/50\n",
      "19/19 [==============================] - 1s 34ms/step - loss: 0.4238 - val_loss: 0.4418\n",
      "Epoch 47/50\n",
      "19/19 [==============================] - 1s 35ms/step - loss: 0.4236 - val_loss: 0.4419\n",
      "Epoch 48/50\n",
      "19/19 [==============================] - 1s 35ms/step - loss: 0.4231 - val_loss: 0.4421\n",
      "Epoch 49/50\n",
      "19/19 [==============================] - 1s 33ms/step - loss: 0.4225 - val_loss: 0.4422\n",
      "Epoch 50/50\n",
      "19/19 [==============================] - 1s 32ms/step - loss: 0.4220 - val_loss: 0.4423\n"
     ]
    }
   ],
   "source": [
    "from tensorflow.keras.layers import Input, Dense, Concatenate\n",
    "from tensorflow.keras.models import Model\n",
    "\n",
    "\n",
    "input_dim = X_train.shape[1]\n",
    "user_features_dim = user_features_train.shape[1]\n",
    "\n",
    "\n",
    "input_ratings = Input(shape=(input_dim,))\n",
    "input_user_features = Input(shape=(user_features_dim,))\n",
    "\n",
    "\n",
    "encoded = Dense(256, activation='relu')(input_ratings)\n",
    "encoded = Concatenate()([encoded, input_user_features])  \n",
    "encoded = Dense(128, activation='relu')(encoded)\n",
    "encoded = Dense(64, activation='relu')(encoded)\n",
    "\n",
    "\n",
    "decoded = Dense(128, activation='relu')(encoded)\n",
    "decoded = Dense(256, activation='relu')(decoded)\n",
    "output_ratings = Dense(input_dim, activation='sigmoid')(decoded)\n",
    "\n",
    "\n",
    "autoencoder = Model(inputs=[input_ratings, input_user_features], outputs=output_ratings)\n",
    "autoencoder.compile(optimizer='adam', loss='mse')\n",
    "\n",
    "\n",
    "history = autoencoder.fit([X_train, user_features_train], X_train, \n",
    "                          epochs=50, \n",
    "                          batch_size=256, \n",
    "                          shuffle=True, \n",
    "                          validation_data=([X_test, user_features_test], X_test))\n"
   ]
  },
  {
   "cell_type": "code",
   "execution_count": 20,
   "metadata": {},
   "outputs": [
    {
     "name": "stdout",
     "output_type": "stream",
     "text": [
      "189/189 [==============================] - 1s 3ms/step\n",
      "Recomendaciones para el usuario 1\n",
      "                                 title\n",
      "33                         Babe (1995)\n",
      "108                  Braveheart (1995)\n",
      "315   Shawshank Redemption, The (1994)\n",
      "360              Lion King, The (1994)\n",
      "900                  Casablanca (1942)\n",
      "2009           Jungle Book, The (1967)\n",
      "2011         Lady and the Tramp (1955)\n",
      "2012        Little Mermaid, The (1989)\n",
      "2016             101 Dalmatians (1961)\n",
      "2789            American Beauty (1999)\n"
     ]
    }
   ],
   "source": [
    "\n",
    "reconstructed_matrix = autoencoder.predict([user_movie_matrix, user_features])\n",
    "\n",
    "\n",
    "def recommended_movies(user_id, reconstructed_matrix, user_movie_matrix, movies, n_recommendations=5):\n",
    "    user_ratings = user_movie_matrix.loc[user_id]\n",
    "    unseen_movies = user_ratings[user_ratings == 0].index\n",
    "\n",
    "    user_recommendations = reconstructed_matrix[user_id - 1]\n",
    "    recommendations = pd.Series(user_recommendations, index=user_movie_matrix.columns).loc[unseen_movies]\n",
    "    recommended_movies = recommendations.sort_values(ascending=False).head(n_recommendations)\n",
    "    recommended_movies_titles = movies[movies['movieId'].isin(recommended_movies.index)]\n",
    "    \n",
    "    return recommended_movies_titles[['title']]\n",
    "\n",
    "\n",
    "user_id = 1\n",
    "recommendations_example = recommended_movies(user_id, reconstructed_matrix, user_movie_matrix, movies, n_recommendations=10)\n",
    "print(f\"Recomendaciones para el usuario {user_id}\")\n",
    "print(recommendations_example)\n"
   ]
  },
  {
   "cell_type": "code",
   "execution_count": 10,
   "metadata": {},
   "outputs": [
    {
     "name": "stdout",
     "output_type": "stream",
     "text": [
      "38/38 [==============================] - 0s 3ms/step - loss: 0.4423\n",
      "Loss en el conjunto de prueba: 0.44227227568626404\n"
     ]
    },
    {
     "data": {
      "image/png": "[encoded data removed]",
      "text/plain": [
       "<Figure size 1000x600 with 1 Axes>"
      ]
     },
     "metadata": {},
     "output_type": "display_data"
    }
   ],
   "source": [
    "import matplotlib.pyplot as plt\n",
    "loss = autoencoder.evaluate([X_test,user_features_test],X_test)\n",
    "print(f'Loss en el conjunto de prueba: {loss}')\n",
    "\n",
    "plt.figure(figsize=(10, 6))\n",
    "plt.plot(history.history['loss'], label='Loss')\n",
    "plt.plot(history.history['val_loss'], label='Validation Loss')\n",
    "plt.xlabel('Epoch')\n",
    "plt.ylabel('Loss')\n",
    "plt.legend()\n",
    "plt.title('Curva de entrenamiento del autoencoder')\n",
    "plt.show()"
   ]
  }
 ],
 "metadata": {
  "kernelspec": {
   "display_name": "Python 3",
   "language": "python",
   "name": "python3"
  },
  "language_info": {
   "codemirror_mode": {
    "name": "ipython",
    "version": 3
   },
   "file_extension": ".py",
   "mimetype": "text/x-python",
   "name": "python",
   "nbconvert_exporter": "python",
   "pygments_lexer": "ipython3",
   "version": "3.10.13"
  }
 },
 "nbformat": 4,
 "nbformat_minor": 2
}
